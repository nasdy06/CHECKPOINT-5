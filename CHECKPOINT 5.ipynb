{
 "cells": [
  {
   "cell_type": "markdown",
   "id": "03012f5e",
   "metadata": {},
   "source": [
    "# Q1\n"
   ]
  },
  {
   "cell_type": "code",
   "execution_count": 5,
   "id": "60e1b81f",
   "metadata": {},
   "outputs": [
    {
     "name": "stdout",
     "output_type": "stream",
     "text": [
      "x=1,y=2,z=3\n"
     ]
    }
   ],
   "source": [
    "class Point3D:\n",
    "    def __init__(self,x,y,z):\n",
    "        self.x=x\n",
    "        self.y=y\n",
    "        self.z=z\n",
    "    def afficher(self):\n",
    "        return \"x={},y={},z={}\".format(self.x,self.y,self.z) \n",
    "my_point=Point3D(1,2,3)\n",
    "print (my_point.afficher())"
   ]
  },
  {
   "cell_type": "markdown",
   "id": "5de43a8b",
   "metadata": {},
   "source": [
    "# Q2"
   ]
  },
  {
   "cell_type": "code",
   "execution_count": 9,
   "id": "36fa8752",
   "metadata": {},
   "outputs": [
    {
     "name": "stdout",
     "output_type": "stream",
     "text": [
      "le perimetre du rectangle est 14\n",
      "l'aire du rectangle est 12\n"
     ]
    }
   ],
   "source": [
    "class Rectangle:\n",
    "    def __init__(self,longueur,largeur):\n",
    "        self.longueur = longueur\n",
    "        self.largeur = largeur\n",
    "        \n",
    "    def perimetre(self):\n",
    "        return 2*(self.longueur + self.largeur)\n",
    "    \n",
    "    def aire(self):\n",
    "        return self.longueur*self.largeur\n",
    "my_rectangle=Rectangle(3,4)\n",
    "print (\"le perimetre du rectangle est {}\".format(my_rectangle.perimetre()))  \n",
    "print (\"l'aire du rectangle est {}\".format(my_rectangle.aire()))        \n",
    "\n",
    "        "
   ]
  },
  {
   "cell_type": "markdown",
   "id": "3ec325d2",
   "metadata": {},
   "source": [
    "# Q3\n"
   ]
  },
  {
   "cell_type": "code",
   "execution_count": 33,
   "id": "6f4795d6",
   "metadata": {},
   "outputs": [
    {
     "name": "stdout",
     "output_type": "stream",
     "text": [
      "Le perimetre du cercle est : 25.132741228718345\n",
      "L'aire du cercle est : 50.26548245743669\n",
      "Le point A n'appartient pas a cercle\n"
     ]
    }
   ],
   "source": [
    "from math import*\n",
    "class Circle:\n",
    "    def __init__(self,x_circle,y_circle,r):\n",
    "        self.x_circle=x_circle\n",
    "        self.y_circle=y_circle\n",
    "        self.r=r\n",
    "    def aire (self):\n",
    "        return pi*self.r**2\n",
    "    def perimetre (self):\n",
    "        return 2*pi*self.r\n",
    "    def appartenance (self,x,y):\n",
    "        if (x-self.x_circle)**2+(y-self.y_circle)**2<=self.r**2:\n",
    "            return True \n",
    "        else:\n",
    "            return False\n",
    "my_cercle=Circle(2,3,4)\n",
    "\n",
    "print (\"Le perimetre du cercle est :\",my_cercle.perimetre())\n",
    "print (\"L'aire du cercle est :\",my_cercle.aire())\n",
    "if  my_cercle.appartenance(199,3)==True:\n",
    "    print (\"Le point A appartient au cercle\")\n",
    "else:\n",
    "    print (\"Le point A n'appartient pas a cercle\")"
   ]
  },
  {
   "cell_type": "markdown",
   "id": "fbdd3c0c",
   "metadata": {},
   "source": [
    "# Q4"
   ]
  },
  {
   "cell_type": "code",
   "execution_count": 35,
   "id": "325be1f3",
   "metadata": {},
   "outputs": [
    {
     "name": "stdout",
     "output_type": "stream",
     "text": [
      "1400\n",
      "600\n"
     ]
    }
   ],
   "source": [
    "class Bank:\n",
    "    def __init__(self,solde):\n",
    "        self.solde=solde\n",
    "    def depot(self,depot):\n",
    "        return self.solde+depot\n",
    "    def retrait(self,retrait):\n",
    "        return self.solde-retrait\n",
    "my_account=Bank(1000)\n",
    "print (my_account.depot(400))\n",
    "print (my_account.retrait(400))"
   ]
  },
  {
   "cell_type": "code",
   "execution_count": null,
   "id": "c7926dc3",
   "metadata": {},
   "outputs": [],
   "source": []
  }
 ],
 "metadata": {
  "kernelspec": {
   "display_name": "Python 3 (ipykernel)",
   "language": "python",
   "name": "python3"
  },
  "language_info": {
   "codemirror_mode": {
    "name": "ipython",
    "version": 3
   },
   "file_extension": ".py",
   "mimetype": "text/x-python",
   "name": "python",
   "nbconvert_exporter": "python",
   "pygments_lexer": "ipython3",
   "version": "3.9.12"
  }
 },
 "nbformat": 4,
 "nbformat_minor": 5
}
